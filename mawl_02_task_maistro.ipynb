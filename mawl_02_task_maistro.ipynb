{
 "cells": [
  {
   "cell_type": "code",
   "execution_count": 1,
   "id": "27eb464a-a6a5-4e58-8014-0fe36f53e32b",
   "metadata": {},
   "outputs": [
    {
     "data": {
      "text/plain": [
       "[{'assistant_id': 'ea4ebafa-a81d-5063-a5fa-67c755d98a21',\n",
       "  'graph_id': 'task_maistro',\n",
       "  'created_at': '2025-01-15T23:49:59.417849+00:00',\n",
       "  'updated_at': '2025-01-15T23:49:59.417849+00:00',\n",
       "  'config': {},\n",
       "  'metadata': {'created_by': 'system'},\n",
       "  'version': 1,\n",
       "  'name': 'task_maistro'}]"
      ]
     },
     "execution_count": 1,
     "metadata": {},
     "output_type": "execute_result"
    }
   ],
   "source": [
    "from langgraph_sdk import get_client\n",
    "url_for_cli_deployment = \"http://localhost:8123\"\n",
    "client = get_client(url=url_for_cli_deployment)\n",
    "await client.assistants.search()"
   ]
  },
  {
   "cell_type": "code",
   "execution_count": 7,
   "id": "45881103-722d-4f6f-9ea1-23a496d368a5",
   "metadata": {},
   "outputs": [],
   "source": [
    "import httpx\n",
    "from langchain_core.messages import convert_to_messages\n",
    "from langchain_core.messages import HumanMessage"
   ]
  },
  {
   "cell_type": "code",
   "execution_count": 8,
   "id": "06eb6443-94b8-48fb-bd8d-dd5abd2b0077",
   "metadata": {},
   "outputs": [
    {
     "name": "stdout",
     "output_type": "stream",
     "text": [
      "================================\u001b[1m Human Message \u001b[0m=================================\n",
      "\n",
      "Send Erik his t-shirt gift this weekend.\n",
      "==================================\u001b[1m Ai Message \u001b[0m==================================\n",
      "Tool Calls:\n",
      "  UpdateMemory (call_cyIALnlw5qwyVoQLMiMFRron)\n",
      " Call ID: call_cyIALnlw5qwyVoQLMiMFRron\n",
      "  Args:\n",
      "    update_type: todo\n",
      "=================================\u001b[1m Tool Message \u001b[0m=================================\n",
      "\n",
      "Document 8ee305ba-fea0-43ef-93fb-2e71b806d48a updated:\n",
      "Plan: Update the deadline for sending Erik his t-shirt gift to this weekend, which is January 19, 2025.\n",
      "Added content: 2025-01-19T23:59:00\n",
      "\n",
      "Document 8ee305ba-fea0-43ef-93fb-2e71b806d48a updated:\n",
      "Plan: Update the status of the task to 'in progress' to reflect the current state of the task.\n",
      "Added content: in progress\n",
      "==================================\u001b[1m Ai Message \u001b[0m==================================\n",
      "\n",
      "I've updated the deadline for sending Erik his t-shirt gift to this weekend. Let me know if there's anything else you need!\n",
      "================================\u001b[1m Human Message \u001b[0m=================================\n",
      "\n",
      "Get cash and pay nanny for 2 weeks. Do this by Friday.\n",
      "==================================\u001b[1m Ai Message \u001b[0m==================================\n",
      "Tool Calls:\n",
      "  UpdateMemory (call_PoMgXDHHJKp1InPa2qtz65Cr)\n",
      " Call ID: call_PoMgXDHHJKp1InPa2qtz65Cr\n",
      "  Args:\n",
      "    update_type: todo\n",
      "=================================\u001b[1m Tool Message \u001b[0m=================================\n",
      "\n",
      "Document 4eef3906-2e54-407f-ac9d-021c01ab7fcf updated:\n",
      "Plan: Update the deadline for the task 'Get cash and pay nanny for 2 weeks' to Friday, January 19, 2025.\n",
      "Added content: 2025-01-19T23:59:00\n",
      "\n",
      "Document 4eef3906-2e54-407f-ac9d-021c01ab7fcf updated:\n",
      "Plan: Update the status of the task to 'in progress' to reflect the current state of the task.\n",
      "Added content: in progress\n",
      "==================================\u001b[1m Ai Message \u001b[0m==================================\n",
      "\n",
      "I've updated the deadline for getting cash and paying the nanny to this Friday. If there's anything else you need, feel free to let me know!\n"
     ]
    }
   ],
   "source": [
    "# Create a new thread\n",
    "thread = await client.threads.create()\n",
    "\n",
    "# Create new ToDos\n",
    "user_input_1 = \"Send Erik his t-shirt gift this weekend.\"\n",
    "user_input_2 = \"Get cash and pay nanny for 2 weeks. Do this by Friday.\"\n",
    "config = {\"configurable\": {\"user_id\": \"Lance\"}}\n",
    "graph_name = \"task_maistro\" \n",
    "\n",
    "first_run = await client.runs.create(\n",
    "    thread[\"thread_id\"],\n",
    "    graph_name,\n",
    "    input={\"messages\": [HumanMessage(content=user_input_1)]}, \n",
    "    config=config,\n",
    ")\n",
    "\n",
    "second_run = await client.runs.create(\n",
    "    thread[\"thread_id\"],\n",
    "    graph_name,\n",
    "    input={\"messages\": [HumanMessage(content=user_input_2)]}, \n",
    "    config=config,\n",
    "    multitask_strategy=\"enqueue\",\n",
    ")\n",
    "\n",
    "# Wait until the second run completes\n",
    "await client.runs.join(thread[\"thread_id\"], second_run[\"run_id\"])\n",
    "\n",
    "# Get the state of the thread\n",
    "state = await client.threads.get_state(thread[\"thread_id\"])\n",
    "for m in convert_to_messages(state[\"values\"][\"messages\"]):\n",
    "    m.pretty_print()"
   ]
  },
  {
   "cell_type": "code",
   "execution_count": null,
   "id": "0c5d63f5-cdb8-4d93-a0b7-fbac1e773363",
   "metadata": {},
   "outputs": [],
   "source": []
  }
 ],
 "metadata": {
  "kernelspec": {
   "display_name": "Python 3 (ipykernel)",
   "language": "python",
   "name": "python3"
  },
  "language_info": {
   "codemirror_mode": {
    "name": "ipython",
    "version": 3
   },
   "file_extension": ".py",
   "mimetype": "text/x-python",
   "name": "python",
   "nbconvert_exporter": "python",
   "pygments_lexer": "ipython3",
   "version": "3.12.4"
  }
 },
 "nbformat": 4,
 "nbformat_minor": 5
}
