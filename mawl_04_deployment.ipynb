{
 "cells": [
  {
   "cell_type": "code",
   "execution_count": 1,
   "id": "e5825224-1811-4e53-ae57-ac58be7f54d6",
   "metadata": {},
   "outputs": [],
   "source": [
    "from langchain_core.messages import HumanMessage, SystemMessage"
   ]
  },
  {
   "cell_type": "code",
   "execution_count": 2,
   "id": "7fdf60f0-feb5-41f4-b9e3-1ea3545f2f05",
   "metadata": {},
   "outputs": [],
   "source": [
    "from langgraph_sdk import get_client\n",
    "\n",
    "# Connect via SDK\n",
    "url_for_cli_deployment = \"http://localhost:8123\"\n",
    "client = get_client(url=url_for_cli_deployment)"
   ]
  },
  {
   "cell_type": "code",
   "execution_count": 3,
   "id": "815b6f2c-f712-412d-a33a-b13231850c1e",
   "metadata": {},
   "outputs": [
    {
     "data": {
      "text/plain": [
       "{'thread_id': '92decc75-c3b5-484f-b63f-ab8f04ad7988',\n",
       " 'created_at': '2025-01-18T03:13:07.950582+00:00',\n",
       " 'updated_at': '2025-01-18T03:13:07.950582+00:00',\n",
       " 'metadata': {},\n",
       " 'status': 'idle',\n",
       " 'config': {},\n",
       " 'values': None,\n",
       " 'interrupts': {}}"
      ]
     },
     "execution_count": 3,
     "metadata": {},
     "output_type": "execute_result"
    }
   ],
   "source": [
    "# Create a thread\n",
    "thread = await client.threads.create()\n",
    "thread"
   ]
  },
  {
   "cell_type": "code",
   "execution_count": 4,
   "id": "f5aed261-997b-4ee8-89cd-0f277b756801",
   "metadata": {},
   "outputs": [
    {
     "name": "stdout",
     "output_type": "stream",
     "text": [
      "[]\n"
     ]
    }
   ],
   "source": [
    "# Check any existing runs on a thread\n",
    "thread = await client.threads.create()\n",
    "runs = await client.runs.list(thread[\"thread_id\"])\n",
    "print(runs)"
   ]
  },
  {
   "cell_type": "code",
   "execution_count": 5,
   "id": "69071e5a-0cb4-4480-b97c-4096928d67c1",
   "metadata": {},
   "outputs": [],
   "source": [
    "# Ensure we've created some ToDos and saved them to my user_id\n",
    "user_input = \"What's my name?\"\n",
    "config = {\"configurable\": {\"user_id\": \"Ednalyn\"}}\n",
    "graph_name = \"task_master\" \n",
    "run = await client.runs.create(thread[\"thread_id\"], graph_name, input={\"messages\": [HumanMessage(content=user_input)]}, config=config)"
   ]
  },
  {
   "cell_type": "code",
   "execution_count": 7,
   "id": "190d77cd-0de1-4a67-b0e7-0848f7998865",
   "metadata": {},
   "outputs": [],
   "source": [
    "user_input = \"What's my name?\"\n",
    "graph_name = \"task_master\" \n",
    "run = await client.runs.create(thread[\"thread_id\"], graph_name, input={\"messages\": [HumanMessage(content=user_input)]}, config=config)"
   ]
  },
  {
   "cell_type": "code",
   "execution_count": 13,
   "id": "0199948f-5575-4f98-9c3e-7c7379ac3308",
   "metadata": {},
   "outputs": [
    {
     "data": {
      "text/plain": [
       "{'run_id': '1efd54ad-077b-6fd2-a7dc-0d708a8d4661',\n",
       " 'thread_id': 'da4a442b-43fe-4808-ba85-e37013dc3544',\n",
       " 'assistant_id': '599b59fd-1d9f-5fab-995b-10469c06b453',\n",
       " 'created_at': '2025-01-18T03:17:57.361660+00:00',\n",
       " 'updated_at': '2025-01-18T03:17:57.361660+00:00',\n",
       " 'metadata': {'assistant_id': '599b59fd-1d9f-5fab-995b-10469c06b453'},\n",
       " 'status': 'pending',\n",
       " 'kwargs': {'input': {'messages': [{'id': None,\n",
       "     'name': None,\n",
       "     'type': 'human',\n",
       "     'content': \"What's my name?\",\n",
       "     'example': False,\n",
       "     'additional_kwargs': {},\n",
       "     'response_metadata': {}}]},\n",
       "  'config': {'metadata': {'graph_id': 'task_master',\n",
       "    'created_by': 'system',\n",
       "    'assistant_id': '599b59fd-1d9f-5fab-995b-10469c06b453'},\n",
       "   'configurable': {'run_id': '1efd54ad-077b-6fd2-a7dc-0d708a8d4661',\n",
       "    'user_id': 'Ednalyn',\n",
       "    'graph_id': 'task_master',\n",
       "    'thread_id': 'da4a442b-43fe-4808-ba85-e37013dc3544',\n",
       "    'assistant_id': '599b59fd-1d9f-5fab-995b-10469c06b453',\n",
       "    'langgraph_auth_user': None,\n",
       "    'langgraph_auth_user_id': '',\n",
       "    'langgraph_auth_permissions': []}},\n",
       "  'command': None,\n",
       "  'webhook': None,\n",
       "  'subgraphs': False,\n",
       "  'temporary': False,\n",
       "  'stream_mode': ['values'],\n",
       "  'feedback_keys': None,\n",
       "  'interrupt_after': None,\n",
       "  'interrupt_before': None},\n",
       " 'multitask_strategy': 'reject'}"
      ]
     },
     "execution_count": 13,
     "metadata": {},
     "output_type": "execute_result"
    }
   ],
   "source": [
    "run"
   ]
  },
  {
   "cell_type": "code",
   "execution_count": 19,
   "id": "bfde2c2f-265c-46b4-832d-4c1cf0c1cfdb",
   "metadata": {},
   "outputs": [
    {
     "name": "stdout",
     "output_type": "stream",
     "text": [
      "No message or result found in the run response.\n"
     ]
    }
   ],
   "source": [
    "# Check if the result contains a 'message' or 'response'\n",
    "if 'message' in run:\n",
    "    result_message = run['message']\n",
    "    print(f\"Run Message: {result_message}\")\n",
    "elif 'result' in run:\n",
    "    result = run['result']\n",
    "    print(f\"Run Result: {result}\")\n",
    "else:\n",
    "    print(\"No message or result found in the run response.\")"
   ]
  },
  {
   "cell_type": "code",
   "execution_count": 20,
   "id": "0faaaa92-49de-445a-ad17-47cec9eb010c",
   "metadata": {},
   "outputs": [
    {
     "name": "stdout",
     "output_type": "stream",
     "text": [
      "{'run_id': '1efd54ad-077b-6fd2-a7dc-0d708a8d4661', 'thread_id': 'da4a442b-43fe-4808-ba85-e37013dc3544', 'assistant_id': '599b59fd-1d9f-5fab-995b-10469c06b453', 'created_at': '2025-01-18T03:17:57.361660+00:00', 'updated_at': '2025-01-18T03:17:57.361660+00:00', 'metadata': {'assistant_id': '599b59fd-1d9f-5fab-995b-10469c06b453'}, 'status': 'pending', 'kwargs': {'input': {'messages': [{'id': None, 'name': None, 'type': 'human', 'content': \"What's my name?\", 'example': False, 'additional_kwargs': {}, 'response_metadata': {}}]}, 'config': {'metadata': {'graph_id': 'task_master', 'created_by': 'system', 'assistant_id': '599b59fd-1d9f-5fab-995b-10469c06b453'}, 'configurable': {'run_id': '1efd54ad-077b-6fd2-a7dc-0d708a8d4661', 'user_id': 'Ednalyn', 'graph_id': 'task_master', 'thread_id': 'da4a442b-43fe-4808-ba85-e37013dc3544', 'assistant_id': '599b59fd-1d9f-5fab-995b-10469c06b453', 'langgraph_auth_user': None, 'langgraph_auth_user_id': '', 'langgraph_auth_permissions': []}}, 'command': None, 'webhook': None, 'subgraphs': False, 'temporary': False, 'stream_mode': ['values'], 'feedback_keys': None, 'interrupt_after': None, 'interrupt_before': None}, 'multitask_strategy': 'reject'}\n"
     ]
    }
   ],
   "source": [
    "print(run)"
   ]
  },
  {
   "cell_type": "code",
   "execution_count": 28,
   "id": "b31da529-6f4d-4402-ad7f-8e8fb1129e92",
   "metadata": {},
   "outputs": [
    {
     "name": "stdout",
     "output_type": "stream",
     "text": [
      "Receiving new event of type: metadata...\n",
      "{'run_id': '1efd5524-535e-64a4-b0fd-b5c1b1158550', 'attempt': 1}\n",
      "\n",
      "\n",
      "\n",
      "Receiving new event of type: updates...\n",
      "{'task_master': {'messages': [{'content': \"I don't have your name recorded. If you share it with me, I can update your profile!\", 'additional_kwargs': {'refusal': None}, 'response_metadata': {'token_usage': {'completion_tokens': 22, 'prompt_tokens': 496, 'total_tokens': 518, 'completion_tokens_details': {'accepted_prediction_tokens': 0, 'audio_tokens': 0, 'reasoning_tokens': 0, 'rejected_prediction_tokens': 0}, 'prompt_tokens_details': {'audio_tokens': 0, 'cached_tokens': 0}}, 'model_name': 'gpt-4o-mini-2024-07-18', 'system_fingerprint': 'fp_72ed7ab54c', 'finish_reason': 'stop', 'logprobs': None}, 'type': 'ai', 'name': None, 'id': 'run-41c5c39f-fe52-42f4-82ce-d6e932e3dfd8-0', 'example': False, 'tool_calls': [], 'invalid_tool_calls': [], 'usage_metadata': {'input_tokens': 496, 'output_tokens': 22, 'total_tokens': 518, 'input_token_details': {'audio': 0, 'cache_read': 0}, 'output_token_details': {'audio': 0, 'reasoning': 0}}}]}}\n",
      "\n",
      "\n",
      "\n"
     ]
    }
   ],
   "source": [
    "input = {\n",
    "    \"messages\": [\n",
    "        {\n",
    "            \"role\": \"human\",\n",
    "            \"content\": \"what's my name?\"\n",
    "        }\n",
    "    ]\n",
    "}\n",
    "chunks = []\n",
    "async for chunk in client.runs.stream(\n",
    "    thread[\"thread_id\"],\n",
    "    \"task_master\",\n",
    "    input=input,\n",
    "    stream_mode=\"updates\",\n",
    "):\n",
    "    print(f\"Receiving new event of type: {chunk.event}...\")\n",
    "    print(chunk.data)\n",
    "    chunks.append(chunk.data)\n",
    "    print(\"\\n\\n\")"
   ]
  },
  {
   "cell_type": "code",
   "execution_count": null,
   "id": "8e3154d0-9e2b-40bb-a0cc-21b8f042fcd8",
   "metadata": {},
   "outputs": [],
   "source": [
    "import gradio as gr\n",
    "import asyncio\n",
    "from langgraph_sdk import get_client\n",
    "import os\n",
    "\n",
    "URL = \"localhost:8123\"\n",
    "API_KEY = os.environ[\"LANGSMITH_API_KEY\"]\n",
    "\n",
    "async def setup():\n",
    "    client = get_client(url=URL, api_key=API_KEY)\n",
    "    assistants = await client.assistants.search()\n",
    "    assistant = assistants[0]\n",
    "    thread = await client.threads.create()\n",
    "    return assistant[\"assistant_id\"], thread['thread_id']\n",
    "\n",
    "assistant_id = None\n",
    "thread_id = None\n",
    "\n",
    "async def chat(message):\n",
    "    global assistant_id, thread_id\n",
    "    \n",
    "    if assistant_id is None or thread_id is None:\n",
    "        assistant_id, thread_id = await setup()\n",
    "    \n",
    "    client = get_client(url=URL, api_key=API_KEY)\n",
    "    input_data = {\"messages\": [{\"role\": \"user\", \"content\": message}]}\n",
    "    \n",
    "    full_response = \"\"\n",
    "    tool_calls = []\n",
    "    async for chunk in client.runs.stream(\n",
    "        thread_id,\n",
    "        assistant_id,\n",
    "        input=input_data,\n",
    "        stream_mode=\"updates\",\n",
    "    ):\n",
    "        if chunk.data and chunk.event != \"metadata\":\n",
    "            if 'messages' in chunk.data.get('agent', {}):\n",
    "                for msg in chunk.data['agent']['messages']:\n",
    "                    if msg.get('type') == 'ai':\n",
    "                        tool_calls.extend(extract_tool_calls(msg))\n",
    "                        full_response += msg.get('content', '')\n",
    "\n",
    "    return tool_calls, full_response if full_response else \"No response generated.\"\n",
    "\n",
    "def extract_tool_calls(message):\n",
    "    calls = []\n",
    "    if 'tool_calls' in message:\n",
    "        for call in message['tool_calls']:\n",
    "            call_description = f\"Tool call: {call['name']} with args: {call['args']}\"\n",
    "            calls.append(call_description)\n",
    "    return calls\n",
    "\n",
    "def user(user_message, history):\n",
    "    return \"\", history + [[user_message, None]]\n",
    "\n",
    "def bot(history):\n",
    "    user_message = history[-1][0]\n",
    "    tool_calls, bot_message = asyncio.run(chat(user_message))\n",
    "    \n",
    "    new_history = list(history)\n",
    "    if tool_calls:\n",
    "        tool_call_text = \"\\n\".join(tool_calls)\n",
    "        new_history.append((None, tool_call_text))\n",
    "    \n",
    "    new_history.append((None, bot_message))\n",
    "    \n",
    "    return new_history\n",
    "\n",
    "with gr.Blocks(theme=gr.themes.Base()) as demo:\n",
    "    chatbot = gr.Chatbot(bubble_full_width=False)\n",
    "    msg = gr.Textbox()\n",
    "    submit = gr.Button(\"Submit\")\n",
    "    clear = gr.Button(\"Clear\")\n",
    "\n",
    "    submit.click(user, [msg, chatbot], [msg, chatbot], queue=False).then(\n",
    "        bot, chatbot, chatbot\n",
    "    )\n",
    "    msg.submit(user, [msg, chatbot], [msg, chatbot], queue=False).then(\n",
    "        bot, chatbot, chatbot\n",
    "    )\n",
    "    clear.click(lambda: None, None, chatbot, queue=False)\n",
    "\n",
    "if __name__ == \"__main__\":\n",
    "    demo.launch(share=False)"
   ]
  }
 ],
 "metadata": {
  "kernelspec": {
   "display_name": "Python 3 (ipykernel)",
   "language": "python",
   "name": "python3"
  },
  "language_info": {
   "codemirror_mode": {
    "name": "ipython",
    "version": 3
   },
   "file_extension": ".py",
   "mimetype": "text/x-python",
   "name": "python",
   "nbconvert_exporter": "python",
   "pygments_lexer": "ipython3",
   "version": "3.12.4"
  }
 },
 "nbformat": 4,
 "nbformat_minor": 5
}
